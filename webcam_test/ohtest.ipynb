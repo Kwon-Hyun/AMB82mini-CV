{
 "cells": [
  {
   "cell_type": "code",
   "execution_count": 1,
   "metadata": {},
   "outputs": [],
   "source": [
    "import numpy as np\n",
    "import pandas as pd\n",
    "import cv2 as cv\n",
    "\n",
    "import time"
   ]
  },
  {
   "cell_type": "code",
   "execution_count": 2,
   "metadata": {},
   "outputs": [
    {
     "name": "stdout",
     "output_type": "stream",
     "text": [
      "4.7.0\n"
     ]
    }
   ],
   "source": [
    "print(cv.__version__)"
   ]
  },
  {
   "cell_type": "code",
   "execution_count": 3,
   "metadata": {},
   "outputs": [],
   "source": [
    "img = cv.imread('/Users/hyunowk/AMB82mini-CV-4/qrcode_set.png')"
   ]
  },
  {
   "cell_type": "code",
   "execution_count": 4,
   "metadata": {},
   "outputs": [],
   "source": [
    "qcd = cv.QRCodeDetector()\n",
    "retval, decoded_info, points, straight_qrcode = qcd.detectAndDecodeMulti(img)"
   ]
  },
  {
   "cell_type": "code",
   "execution_count": 5,
   "metadata": {},
   "outputs": [
    {
     "name": "stdout",
     "output_type": "stream",
     "text": [
      "True\n"
     ]
    }
   ],
   "source": [
    "print(retval)\n",
    "# True 출력 시, QR code가 감지되는 경우\n",
    "# False 출력 시, 아무것도 감지되지 않는 경우"
   ]
  },
  {
   "cell_type": "code",
   "execution_count": 6,
   "metadata": {},
   "outputs": [
    {
     "name": "stdout",
     "output_type": "stream",
     "text": [
      "('', 'QR Code One', 'QR Code Two')\n"
     ]
    }
   ],
   "source": [
    "print(decoded_info)\n",
    "# decoded_info : QR code에 저장된 문자열을 요소로 하는 tuple\n",
    "# 감지할 수 있지만 디코딩할 수 없는 경우 ''와 같이 빈 문자열로 출력됨."
   ]
  },
  {
   "cell_type": "code",
   "execution_count": 7,
   "metadata": {},
   "outputs": [
    {
     "name": "stdout",
     "output_type": "stream",
     "text": [
      "<class 'numpy.ndarray'>\n",
      "(3, 4, 2)\n"
     ]
    }
   ],
   "source": [
    "# points : 감지된 QR code의 네 모서리 좌표\n",
    "print(type(points))\n",
    "print(points.shape)"
   ]
  },
  {
   "cell_type": "code",
   "execution_count": 8,
   "metadata": {},
   "outputs": [
    {
     "name": "stdout",
     "output_type": "stream",
     "text": [
      "[[[620.         40.       ]\n",
      "  [829.         40.       ]\n",
      "  [829.        249.       ]\n",
      "  [620.        249.       ]]\n",
      "\n",
      " [[ 40.         40.       ]\n",
      "  [249.         40.       ]\n",
      "  [249.        249.       ]\n",
      "  [ 40.        249.       ]]\n",
      "\n",
      " [[290.9108    106.20954  ]\n",
      "  [472.8162      0.8958926]\n",
      "  [578.5836    184.1002   ]\n",
      "  [396.0495    287.81277  ]]]\n"
     ]
    }
   ],
   "source": [
    "print(points)"
   ]
  },
  {
   "cell_type": "code",
   "execution_count": 9,
   "metadata": {},
   "outputs": [
    {
     "name": "stdout",
     "output_type": "stream",
     "text": [
      "<class 'tuple'>\n",
      "<class 'numpy.ndarray'>\n",
      "(21, 21)\n"
     ]
    }
   ],
   "source": [
    "print(type(straight_qrcode))\n",
    "print(type(straight_qrcode[0]))\n",
    "print(straight_qrcode[0].shape)"
   ]
  },
  {
   "cell_type": "code",
   "execution_count": 10,
   "metadata": {},
   "outputs": [],
   "source": [
    "# 감지된 QR code에 대한 frame을 그리고 decoding된 text 중첩시키기\n",
    "img = cv.polylines(img, points.astype(int), True, (0, 255, 0), 3)\n",
    "\n",
    "for s, p in zip(decoded_info, points):\n",
    "    img = cv.putText(img, s, p[0].astype(int),\n",
    "                     cv.FONT_HERSHEY_SIMPLEX, 1, (0, 0, 255), 2, cv.LINE_AA)"
   ]
  },
  {
   "cell_type": "code",
   "execution_count": 11,
   "metadata": {},
   "outputs": [
    {
     "data": {
      "text/plain": [
       "True"
      ]
     },
     "execution_count": 11,
     "metadata": {},
     "output_type": "execute_result"
    }
   ],
   "source": [
    "cv.imwrite('/Users/hyunowk/AMB82mini-CV-4/qr_contour.png', img)"
   ]
  },
  {
   "cell_type": "code",
   "execution_count": null,
   "metadata": {},
   "outputs": [],
   "source": []
  }
 ],
 "metadata": {
  "kernelspec": {
   "display_name": "base",
   "language": "python",
   "name": "python3"
  },
  "language_info": {
   "codemirror_mode": {
    "name": "ipython",
    "version": 3
   },
   "file_extension": ".py",
   "mimetype": "text/x-python",
   "name": "python",
   "nbconvert_exporter": "python",
   "pygments_lexer": "ipython3",
   "version": "3.9.7"
  }
 },
 "nbformat": 4,
 "nbformat_minor": 2
}
